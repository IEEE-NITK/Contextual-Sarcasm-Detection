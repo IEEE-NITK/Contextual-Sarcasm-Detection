{
 "cells": [
  {
   "cell_type": "code",
   "execution_count": 1,
   "metadata": {},
   "outputs": [],
   "source": [
    "import numpy as np\n",
    "import pandas as pd"
   ]
  },
  {
   "cell_type": "code",
   "execution_count": 2,
   "metadata": {},
   "outputs": [],
   "source": [
    "import re\n",
    "def clean_str(string):\n",
    "    string = re.sub(r\"[^A-Za-z0-9(),!?\\'\\`]\", \" \", string)     \n",
    "    string = re.sub(r\"'s\", \" 's\", string) \n",
    "    string = re.sub(r\"'ve\", \" 've\", string) \n",
    "    string = re.sub(r\"n't\", \" n't\", string) \n",
    "    string = re.sub(r\"'re\", \" 're\", string) \n",
    "    string = re.sub(r\"'d\", \" 'd\", string) \n",
    "    string = re.sub(r\"'ll\", \" 'll\", string) \n",
    "    string = re.sub(r\",\", \" , \", string) \n",
    "    string = re.sub(r\"!\", \" ! \", string) \n",
    "    string = re.sub(r\"\\(\", \" \\( \", string) \n",
    "    string = re.sub(r\"\\)\", \" \\) \", string) \n",
    "    string = re.sub(r\"\\?\", \" \\? \", string) \n",
    "    string = re.sub(r\"\\s{2,}\", \" \", string)\n",
    "    return string.strip().lower()"
   ]
  },
  {
   "cell_type": "code",
   "execution_count": 4,
   "metadata": {},
   "outputs": [],
   "source": [
    "import json\n",
    "from collections import defaultdict\n",
    "def load_data():\n",
    "    train=np.asarray(pd.read_csv('train-balanced.csv',header=None,delimiter='|'))\n",
    "    comments=json.loads(open('comments.json').read())\n",
    "    train_comments=[]\n",
    "    vocab=defaultdict(int)\n",
    "    errs=0\n",
    "    for row in train:\n",
    "        label=[]\n",
    "        if(row[2]=='0 1'):\n",
    "            label=[0,1]\n",
    "        else:\n",
    "            label=[1,0]\n",
    "        try:\n",
    "            rev=comments[row[0]]['text'].strip()\n",
    "            cleaned_rev=clean_str(rev)\n",
    "            words=set(cleaned_rev.split())\n",
    "            for word in words:\n",
    "                vocab[word]+=1\n",
    "            cleaned_rev=' '.join(cleaned_rev.split()[:100])\n",
    "            datum={\n",
    "                \"y\":int(1),\n",
    "                \"id\":row[0],\n",
    "                \"text\":cleaned_rev,\n",
    "                \"author\":comments[row[0]]['author'],\n",
    "                \"topic\":comments[row[0]]['subreddit'],\n",
    "                \"label\":label,\n",
    "                \"num_words\":len(cleaned_rev.split()),\n",
    "                \"split\":int(1)\n",
    "            }\n",
    "            train_comments.append(datum)\n",
    "        except:\n",
    "            errs+=1\n",
    "    print(\"Done Loading\")\n",
    "    print(\"Errors: \",err)\n",
    "    return train_comments,vocab"
   ]
  },
  {
   "cell_type": "code",
   "execution_count": 76,
   "metadata": {},
   "outputs": [
    {
     "name": "stdout",
     "output_type": "stream",
     "text": [
      "Done Loading\n",
      "Errors:  1003\n"
     ]
    }
   ],
   "source": [
    "train_comments,vocab=load_data()"
   ]
  },
  {
   "cell_type": "code",
   "execution_count": 86,
   "metadata": {},
   "outputs": [],
   "source": [
    "import io\n",
    "def load_fastText(vocab):\n",
    "    f=io.open('fastText/wiki-news-300d-1M.vec',encoding='latin')\n",
    "    model={}\n",
    "    for line in f:\n",
    "        splitLine=line.split()\n",
    "        word=splitLine[0]\n",
    "        embedding=np.array(splitLine[1:])\n",
    "        if word in vocab:\n",
    "               model[word]=embedding\n",
    "    return model"
   ]
  },
  {
   "cell_type": "code",
   "execution_count": 87,
   "metadata": {},
   "outputs": [],
   "source": [
    "fastText=load_fastText(vocab)"
   ]
  }
 ],
 "metadata": {
  "kernelspec": {
   "display_name": "Python 3",
   "language": "python",
   "name": "python3"
  },
  "language_info": {
   "codemirror_mode": {
    "name": "ipython",
    "version": 3
   },
   "file_extension": ".py",
   "mimetype": "text/x-python",
   "name": "python",
   "nbconvert_exporter": "python",
   "pygments_lexer": "ipython3",
   "version": "3.7.3"
  }
 },
 "nbformat": 4,
 "nbformat_minor": 2
}
